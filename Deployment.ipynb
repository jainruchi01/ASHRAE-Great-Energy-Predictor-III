{
  "cells": [
    {
      "cell_type": "code",
      "execution_count": null,
      "metadata": {
        "colab": {
          "base_uri": "https://localhost:8080/"
        },
        "id": "Qp8U9HWDDAlw",
        "outputId": "17ff2d9d-4372-4ea8-a447-eae3fddddf29"
      },
      "outputs": [
        {
          "name": "stdout",
          "output_type": "stream",
          "text": [
            "\u001b[K     |████████████████████████████████| 9.7 MB 5.2 MB/s \n",
            "\u001b[K     |████████████████████████████████| 111 kB 49.0 MB/s \n",
            "\u001b[K     |████████████████████████████████| 76 kB 4.5 MB/s \n",
            "\u001b[K     |████████████████████████████████| 4.3 MB 38.4 MB/s \n",
            "\u001b[K     |████████████████████████████████| 181 kB 56.0 MB/s \n",
            "\u001b[K     |████████████████████████████████| 164 kB 61.9 MB/s \n",
            "\u001b[K     |████████████████████████████████| 63 kB 1.6 MB/s \n",
            "\u001b[K     |████████████████████████████████| 128 kB 57.0 MB/s \n",
            "\u001b[K     |████████████████████████████████| 793 kB 57.3 MB/s \n",
            "\u001b[K     |████████████████████████████████| 380 kB 52.2 MB/s \n",
            "\u001b[?25h  Building wheel for blinker (setup.py) ... \u001b[?25l\u001b[?25hdone\n",
            "\u001b[31mERROR: pip's dependency resolver does not currently take into account all the packages that are installed. This behaviour is the source of the following dependency conflicts.\n",
            "jupyter-console 5.2.0 requires prompt-toolkit<2.0.0,>=1.0.0, but you have prompt-toolkit 3.0.28 which is incompatible.\n",
            "google-colab 1.0.0 requires ipykernel~=4.10, but you have ipykernel 6.9.1 which is incompatible.\n",
            "google-colab 1.0.0 requires ipython~=5.5.0, but you have ipython 7.32.0 which is incompatible.\u001b[0m\n",
            "\u001b[K     |████████████████████████████████| 745 kB 5.3 MB/s \n",
            "\u001b[?25h  Building wheel for pyngrok (setup.py) ... \u001b[?25l\u001b[?25hdone\n"
          ]
        }
      ],
      "source": [
        "#installing streamlit and pyngrok\n",
        "!pip -q install streamlit\n",
        "!pip -q install pyngrok"
      ]
    },
    {
      "cell_type": "code",
      "execution_count": null,
      "metadata": {
        "colab": {
          "base_uri": "https://localhost:8080/"
        },
        "id": "gQY5xzEPYYSa",
        "outputId": "2f3105ca-c39b-46aa-ffb6-bde89986c049"
      },
      "outputs": [
        {
          "name": "stdout",
          "output_type": "stream",
          "text": [
            "Collecting catboost\n",
            "  Downloading catboost-1.0.4-cp37-none-manylinux1_x86_64.whl (76.1 MB)\n",
            "\u001b[K     |████████████████████████████████| 76.1 MB 66 kB/s \n",
            "\u001b[?25hRequirement already satisfied: pandas>=0.24.0 in /usr/local/lib/python3.7/dist-packages (from catboost) (1.3.5)\n",
            "Requirement already satisfied: plotly in /usr/local/lib/python3.7/dist-packages (from catboost) (5.5.0)\n",
            "Requirement already satisfied: six in /usr/local/lib/python3.7/dist-packages (from catboost) (1.15.0)\n",
            "Requirement already satisfied: matplotlib in /usr/local/lib/python3.7/dist-packages (from catboost) (3.2.2)\n",
            "Requirement already satisfied: scipy in /usr/local/lib/python3.7/dist-packages (from catboost) (1.4.1)\n",
            "Requirement already satisfied: graphviz in /usr/local/lib/python3.7/dist-packages (from catboost) (0.10.1)\n",
            "Requirement already satisfied: numpy>=1.16.0 in /usr/local/lib/python3.7/dist-packages (from catboost) (1.21.5)\n",
            "Requirement already satisfied: pytz>=2017.3 in /usr/local/lib/python3.7/dist-packages (from pandas>=0.24.0->catboost) (2018.9)\n",
            "Requirement already satisfied: python-dateutil>=2.7.3 in /usr/local/lib/python3.7/dist-packages (from pandas>=0.24.0->catboost) (2.8.2)\n",
            "Requirement already satisfied: kiwisolver>=1.0.1 in /usr/local/lib/python3.7/dist-packages (from matplotlib->catboost) (1.3.2)\n",
            "Requirement already satisfied: pyparsing!=2.0.4,!=2.1.2,!=2.1.6,>=2.0.1 in /usr/local/lib/python3.7/dist-packages (from matplotlib->catboost) (3.0.7)\n",
            "Requirement already satisfied: cycler>=0.10 in /usr/local/lib/python3.7/dist-packages (from matplotlib->catboost) (0.11.0)\n",
            "Requirement already satisfied: tenacity>=6.2.0 in /usr/local/lib/python3.7/dist-packages (from plotly->catboost) (8.0.1)\n",
            "Installing collected packages: catboost\n",
            "Successfully installed catboost-1.0.4\n"
          ]
        }
      ],
      "source": [
        "!pip install catboost"
      ]
    },
    {
      "cell_type": "code",
      "execution_count": null,
      "metadata": {
        "colab": {
          "base_uri": "https://localhost:8080/"
        },
        "id": "nuocLuH5kgbo",
        "outputId": "a14cd716-1ab2-4ac7-bac4-008011649db5"
      },
      "outputs": [
        {
          "name": "stdout",
          "output_type": "stream",
          "text": [
            "Mounted at /content/drive\n"
          ]
        }
      ],
      "source": [
        "from google.colab import drive\n",
        "drive.mount('/content/drive')"
      ]
    },
    {
      "cell_type": "code",
      "execution_count": null,
      "metadata": {
        "colab": {
          "base_uri": "https://localhost:8080/"
        },
        "id": "h6QKfGwODYON",
        "outputId": "2ebcd5fe-e11b-42a8-8297-4554c4a5abdf"
      },
      "outputs": [
        {
          "name": "stdout",
          "output_type": "stream",
          "text": [
            "Writing app.py\n"
          ]
        }
      ],
      "source": [
        "%%writefile app.py\n",
        "\n",
        "from pyngrok import ngrok \n",
        "from sklearn.preprocessing import LabelEncoder\n",
        "import joblib\n",
        "import pandas as pd\n",
        "import numpy as np\n",
        "import streamlit as st\n",
        "import lightgbm as lgb\n",
        "import time\n",
        "\n",
        "st.title('To predict how much energy a building will consume')\n",
        "st.header('Meter Reading Prediction')\n",
        "selectedFile= st.file_uploader(\"Select a Query Point\",type='csv')\n",
        "if selectedFile is not None:\n",
        "  st.subheader('Selected Query Point')\n",
        "  query_point= pd.read_csv(selectedFile)\n",
        "  st.write(query_point)\n",
        "  my_bar = st.progress(0)\n",
        "  # Reading pre-processed data from ftr files\n",
        "  X_train_f= pd.read_feather('/content/drive/MyDrive/PGDUOH/Project/ProcessedData/X_train_F.ftr')\n",
        "  catboost_reg= joblib.load('/content/drive/MyDrive/PGDUOH/Project/catboost_reg_1200.sav')\n",
        "  #handling missing values\n",
        "  query_point['dew_temperature'].fillna(0, inplace=True)\n",
        "  query_point['cloud_coverage'].fillna(0, inplace=True)\n",
        "  query_point['precip_depth_1_hr'].fillna(0, inplace=True)\n",
        "  # query_point['sea_level_pressure'].fillna(0, inplace=True)\n",
        "  query_point['wind_direction'].fillna(0, inplace=True)\n",
        "  query_point['wind_speed'].fillna(0, inplace=True)\n",
        "\n",
        "  #Label encoding primary use and season column\n",
        "  label_enc= LabelEncoder()\n",
        "  label_enc.fit(X_train_f['primary_use'])\n",
        "  query_point['primary_use']= label_enc.transform(query_point['primary_use'])\n",
        "\n",
        "  label_enc.fit(X_train_f['season'])\n",
        "  query_point['season']= label_enc.transform(query_point['season'])\n",
        "  log_energy_usage= catboost_reg.predict(query_point)\n",
        "  energy_usage= np.expm1(log_energy_usage)\n",
        "  for percent_complete in range(100):\n",
        "     time.sleep(0.1)\n",
        "     my_bar.progress(percent_complete + 1)\n",
        "  st.subheader('Predicted Meter Reading')\n",
        "  st.write(energy_usage)"
      ]
    },
    {
      "cell_type": "code",
      "execution_count": null,
      "metadata": {
        "colab": {
          "base_uri": "https://localhost:8080/"
        },
        "id": "wdFVnjGZtnQy",
        "outputId": "9dd7816d-9b5d-493f-90b4-b3d2c2062299"
      },
      "outputs": [
        {
          "name": "stdout",
          "output_type": "stream",
          "text": [
            "Authtoken saved to configuration file: /root/.ngrok2/ngrok.yml\n"
          ]
        }
      ],
      "source": [
        "# !streamlit run app.py\n",
        "# https://medium.com/@jcharistech/how-to-run-streamlit-apps-from-colab-29b969a1bdfc\n",
        "!ngrok authtoken 25aXq6on6c6HlBlD7pKjvIAzajI_3ia5qGwvo5daUBRQ7WCyC"
      ]
    },
    {
      "cell_type": "code",
      "execution_count": null,
      "metadata": {
        "colab": {
          "background_save": true,
          "base_uri": "https://localhost:8080/"
        },
        "id": "PvwhjJslVTta",
        "outputId": "d5855a16-82b3-4914-87da-7c99f166e6bd"
      },
      "outputs": [
        {
          "name": "stdout",
          "output_type": "stream",
          "text": [
            "NgrokTunnel: \"http://0312-34-74-93-181.ngrok.io\" -> \"http://localhost:80\"\n",
            "2022-02-26 10:18:33.864 INFO    numexpr.utils: NumExpr defaulting to 2 threads.\n"
          ]
        }
      ],
      "source": [
        "from pyngrok import ngrok as ngrok\n",
        "public_url = ngrok.connect(port='80')\n",
        "print (public_url)\n",
        "!streamlit run --server.port 80 app.py >/dev/null"
      ]
    }
  ],
  "metadata": {
    "colab": {
      "collapsed_sections": [],
      "name": "Deployment.ipynb",
      "provenance": []
    },
    "kernelspec": {
      "display_name": "Python 3",
      "name": "python3"
    },
    "language_info": {
      "name": "python"
    }
  },
  "nbformat": 4,
  "nbformat_minor": 0
}