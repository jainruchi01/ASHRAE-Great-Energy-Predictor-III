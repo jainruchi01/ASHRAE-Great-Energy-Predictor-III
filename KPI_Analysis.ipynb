{
 "cells": [
  {
   "cell_type": "markdown",
   "id": "deluxe-pattern",
   "metadata": {},
   "source": [
    "# Root Mean Squared Logarithmic Error (RMSLE)"
   ]
  },
  {
   "cell_type": "code",
   "execution_count": 9,
   "id": "brazilian-greene",
   "metadata": {},
   "outputs": [],
   "source": [
    "import numpy as np"
   ]
  },
  {
   "cell_type": "code",
   "execution_count": 10,
   "id": "diagnostic-warner",
   "metadata": {},
   "outputs": [],
   "source": [
    "def RMSLE(ai:list, pi:list) -> float:\n",
    "    \"\"\"\n",
    "        :ai: Actual values of meter reading from dataset\n",
    "        :pi: Predicted values of meter reading from dataset\n",
    "        :return: RMSLE value\n",
    "        RMSLE =  sqrt(1/n(∑ i=1 to n (log(pi+1)−log(ai+1))**2)\n",
    "    \"\"\"\n",
    "    n = len(ai)\n",
    "    msle = np.mean([(np.log(pi[k] + 1) - np.log(ai[k] + 1)) ** 2.0 for k in range(n)])\n",
    "    return np.sqrt(msle)"
   ]
  },
  {
   "cell_type": "code",
   "execution_count": 17,
   "id": "exact-bloom",
   "metadata": {},
   "outputs": [
    {
     "name": "stdout",
     "output_type": "stream",
     "text": [
      "0.18215504276476313\n",
      "0.14299835312095688\n"
     ]
    }
   ],
   "source": [
    "ai=np.array((1000,))\n",
    "pi=np.array((1200,))\n",
    "print(RMSLE(ai,pi))\n",
    "\n",
    "ai=np.array((1500,))\n",
    "pi=np.array((1300,))\n",
    "print(RMSLE(ai,pi))"
   ]
  },
  {
   "cell_type": "code",
   "execution_count": 20,
   "id": "victorian-reward",
   "metadata": {},
   "outputs": [
    {
     "name": "stdout",
     "output_type": "stream",
     "text": [
      "0.4054651081081645\n",
      "0.688184391217816\n"
     ]
    }
   ],
   "source": [
    "ai=np.array((1,))\n",
    "pi=np.array((2,))\n",
    "print(RMSLE(ai,pi))\n",
    "\n",
    "ai=np.array((100,))\n",
    "pi=np.array((200,))\n",
    "print(RMSLE(ai,pi))"
   ]
  },
  {
   "cell_type": "markdown",
   "id": "informative-blackjack",
   "metadata": {},
   "source": [
    "# Root Mean Squared Error (RMSE)"
   ]
  },
  {
   "cell_type": "code",
   "execution_count": 14,
   "id": "unlike-namibia",
   "metadata": {},
   "outputs": [],
   "source": [
    "#RMSE code is written for comparison only\n",
    "def RMSE(ai:list, pi:list) -> float:\n",
    "    \"\"\"\n",
    "        :ai: Actual values of meter reading from dataset\n",
    "        :pi: Predicted values of meter reading from dataset\n",
    "        :return: RMSE value\n",
    "        RMSLE =  sqrt(1/n(∑ i=1 to n (pi−ai)**2)\n",
    "    \"\"\"\n",
    "    n = len(ai)\n",
    "    mse = np.mean([(pi[k] - ai[k]) ** 2.0 for k in range(n)])\n",
    "    return np.sqrt(mse)"
   ]
  },
  {
   "cell_type": "code",
   "execution_count": 18,
   "id": "agreed-cream",
   "metadata": {},
   "outputs": [
    {
     "name": "stdout",
     "output_type": "stream",
     "text": [
      "200.0\n",
      "200.0\n"
     ]
    }
   ],
   "source": [
    "ai=np.array((1000,))\n",
    "pi=np.array((1200,))\n",
    "print(RMSE(ai,pi))\n",
    "\n",
    "ai=np.array((1500,))\n",
    "pi=np.array((1300,))\n",
    "print(RMSE(ai,pi))"
   ]
  },
  {
   "cell_type": "code",
   "execution_count": 21,
   "id": "resistant-applicant",
   "metadata": {},
   "outputs": [
    {
     "name": "stdout",
     "output_type": "stream",
     "text": [
      "1.0\n",
      "100.0\n"
     ]
    }
   ],
   "source": [
    "ai=np.array((1,))\n",
    "pi=np.array((2,))\n",
    "print(RMSE(ai,pi))\n",
    "\n",
    "ai=np.array((100,))\n",
    "pi=np.array((200,))\n",
    "print(RMSE(ai,pi))"
   ]
  }
 ],
 "metadata": {
  "kernelspec": {
   "display_name": "Python 3",
   "language": "python",
   "name": "python3"
  },
  "language_info": {
   "codemirror_mode": {
    "name": "ipython",
    "version": 3
   },
   "file_extension": ".py",
   "mimetype": "text/x-python",
   "name": "python",
   "nbconvert_exporter": "python",
   "pygments_lexer": "ipython3",
   "version": "3.9.1"
  }
 },
 "nbformat": 4,
 "nbformat_minor": 5
}
